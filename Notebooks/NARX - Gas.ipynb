{
 "cells": [
  {
   "cell_type": "markdown",
   "metadata": {},
   "source": [
    "# NARX Modelling\n",
    "ARX models have endless varieties and flavors, but not all ARX models are linear models. Nonlinear ARX, or NARX, constitutes an important generalization of our traditional ARX models while allowing us to leverage tools from machine learning to produce more sophisticated nonlinear relationships."
   ]
  },
  {
   "cell_type": "code",
   "execution_count": null,
   "metadata": {},
   "outputs": [],
   "source": [
    "# Import libraries\n",
    "import numpy as np\n",
    "from numpy import genfromtxt\n",
    "from matplotlib import pyplot as plt\n",
    "from sklearn.decomposition import PCA\n",
    "from sklearn.preprocessing import normalize\n",
    "from scipy.signal import savgol_filter\n",
    "from numpy import linalg as lin\n",
    "import seaborn as sns\n",
    "import pandas as pd\n",
    "\n",
    "# Import data\n",
    "my_data = genfromtxt('../Data/natgas.data.csv', delimiter=',',dtype='f8')\n",
    "my_data = my_data[1:,1:] # Ignore the first row, which contains headers\n",
    "names = [\"STOCKS\",\"HDD_FORE\",\"CDD_FORE\",\"JFKTEMP\",\"CLTTEMP\",\"ORDTEMP\",\"HOUTEMP\",\"LAXTEMP\",\"NXT_CNG_STK\"]\n",
    "\n",
    "# Delete the unused features\n",
    "X = my_data[0:600,:]\n",
    "X = np.delete(X,1,axis=1)\n",
    "X = np.delete(X,1,axis=1)\n",
    "Xnames = [\"STOCKS\",\"JFKTEMP\",\"CLTTEMP\",\"ORDTEMP\",\"HOUTEMP\",\"LAXTEMP\",\"NXT_CNG_STK\"]\n",
    "\n",
    "# Deseasonalize the data\n",
    "window_length = 13\n",
    "polyorder = 2\n",
    "datatrend = savgol_filter(X[:,1:10], window_length, polyorder, axis=0)\n",
    "X[:,1:10] = X[:,1:10] - datatrend\n",
    "\n",
    "# For now, take the model length as a given\n",
    "Q = 3\n",
    "\n",
    "# Delay embed all of our data. The last column will be our target\n",
    "Z = np.empty((X.shape[0]-Q+1,Q*X.shape[1]))\n",
    "for k in range(0,X.shape[1]):\n",
    "    Z[:,np.arange(0,Q) + k*Q] = embed(X[:,k],Q,1)\n",
    "\n",
    "# Separate target and predictors\n",
    "y = Z[:,Z.shape[1]-1]  \n",
    "Z = Z[:,0:Z.shape[1]-1]\n",
    "\n",
    "# Normalize the input predictors\n",
    "Z = normalize(Z, axis=0)"
   ]
  },
  {
   "cell_type": "markdown",
   "metadata": {},
   "source": [
    "## Neural NARX\n",
    "Small feedforward net"
   ]
  },
  {
   "cell_type": "code",
   "execution_count": null,
   "metadata": {},
   "outputs": [],
   "source": []
  },
  {
   "cell_type": "markdown",
   "metadata": {},
   "source": [
    "## Gradient Boost NARX\n",
    "XGBoost"
   ]
  },
  {
   "cell_type": "code",
   "execution_count": null,
   "metadata": {},
   "outputs": [],
   "source": []
  }
 ],
 "metadata": {
  "kernelspec": {
   "display_name": "Python 3",
   "language": "python",
   "name": "python3"
  },
  "language_info": {
   "codemirror_mode": {
    "name": "ipython",
    "version": 3
   },
   "file_extension": ".py",
   "mimetype": "text/x-python",
   "name": "python",
   "nbconvert_exporter": "python",
   "pygments_lexer": "ipython3",
   "version": "3.7.4"
  }
 },
 "nbformat": 4,
 "nbformat_minor": 2
}
