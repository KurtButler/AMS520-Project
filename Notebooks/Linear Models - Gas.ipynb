{
 "cells": [
  {
   "cell_type": "markdown",
   "metadata": {},
   "source": [
    "# Linear Models\n",
    "In any problem, it is often useful to start by attempting the 'simplest possible solution' first. In machine learning, this is often the linear model. Linear models for prediction could be fitted by least-squares, e.g. predictive least squares (PLS), or by hypothesis of an explicit data generating process, e.g. autoregressive moving-average (ARMA) models. Our model will have the form\n",
    "$$\n",
    "y(t+1) = \\sum_{\\ell=0}^L \\left( a_\\ell y(t-\\ell) + b_\\ell^1 x_1(t-\\ell) + \\cdots + b_\\ell^P x_P (t-\\ell) \\right) + \\varepsilon(t)\n",
    "$$\n",
    "where $x_1,...,x_P$ are the $P$ additional predictor variables in our dataset and $\\varepsilon(t)$ is considered to be a noise signal.\n",
    "\n",
    "\n",
    "In this module, we will consider vector autoregressive models with exogenous inputs (VARX) applied to the natural gas dataset. The first model will use stocks and airport temputers as exogenous variables, while the second model will additionally incorporate the heating/cooling forecasts."
   ]
  },
  {
   "cell_type": "code",
   "execution_count": null,
   "metadata": {},
   "outputs": [],
   "source": []
  }
 ],
 "metadata": {
  "kernelspec": {
   "display_name": "Python 3",
   "language": "python",
   "name": "python3"
  },
  "language_info": {
   "codemirror_mode": {
    "name": "ipython",
    "version": 3
   },
   "file_extension": ".py",
   "mimetype": "text/x-python",
   "name": "python",
   "nbconvert_exporter": "python",
   "pygments_lexer": "ipython3",
   "version": "3.7.4"
  }
 },
 "nbformat": 4,
 "nbformat_minor": 2
}
